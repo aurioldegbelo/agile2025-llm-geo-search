{
  "nbformat": 4,
  "nbformat_minor": 0,
  "metadata": {
    "colab": {
      "provenance": [],
      "include_colab_link": true
    },
    "kernelspec": {
      "name": "python3",
      "display_name": "Python 3"
    },
    "language_info": {
      "name": "python"
    }
  },
  "cells": [
    {
      "cell_type": "markdown",
      "metadata": {
        "id": "view-in-github",
        "colab_type": "text"
      },
      "source": [
        "<a href=\"https://colab.research.google.com/github/simeonwetzel/agile2025-llm-geo-search/blob/main/2_LLM_Calls.ipynb\" target=\"_parent\"><img src=\"https://colab.research.google.com/assets/colab-badge.svg\" alt=\"Open In Colab\"/></a>"
      ]
    },
    {
      "cell_type": "markdown",
      "source": [
        "Topics\n",
        "\n",
        "* LLM calls\n",
        "* Query interpretation\n",
        "* RAG\n",
        "  * Retrieval\n",
        "  * Generation\n",
        "* Conversation\n"
      ],
      "metadata": {
        "id": "zA1YJYsW5arI"
      }
    },
    {
      "cell_type": "markdown",
      "source": [
        "Queries building by attribute (name):\n",
        "\n",
        "        \"Tell me about the Zwinger Palace in Dresden\",\n",
        "        \"Zwinger\",\n",
        "        \"Semperoper\",\n",
        "        \"Frauenkirche\",\n",
        "        \"Where is the Frauenkirche located?\",\n",
        "        \"Show me information on the Semperoper\",\n",
        "        \"I want to find the Dresden Castle\",\n",
        "        \"What can you tell me about the Military History Museum?\",\n",
        "        \"Give me details on the Green Vault\",\n",
        "        \"Find the Blue Wonder bridge\",\n",
        "        \"Show me the Hygiene Museum\",\n",
        "        \"Tell me about the Yenidze building\",\n",
        "        \"Locate the Albertinum in Dresden\"\n",
        "\n",
        "Queries building by type:\n",
        "\n",
        "        \"List all museums in Dresden\",\n",
        "        \"Find the hospitals in Dresden\",\n",
        "        \"Show me art galleries in Dresden\",\n",
        "        \"Are there any public libraries in Dresden?\",\n",
        "        \"What schools are there in Dresden?\",\n",
        "        \"Search for historical buildings in Dresden\",\n",
        "        \"Look up churches in Dresden\",\n",
        "        \"Which theaters are in Dresden?\",\n",
        "        \"What kind of tourist attractions are in Dresden?\",\n",
        "        \"Find universities in Dresden\"\n",
        "\n",
        "Advanced queries:\n",
        "\n",
        "        \"Restaurants in Dresden Neustadt\" # (poly/poly => intersection, point/poly => contains)\n",
        "        \"Historic buildings in a 2km radius around the Semperoper\" # Requires a tool for buffered search\n",
        "        \"Restaurants on the main street\"\n",
        "        \"Buildings with a size greater than 100 square meters\""
      ],
      "metadata": {
        "id": "S-OvUWfYnjJj"
      }
    },
    {
      "cell_type": "markdown",
      "source": [
        "# Part 1: Simple LLM Call"
      ],
      "metadata": {
        "id": "hprBlnPiudxD"
      }
    },
    {
      "cell_type": "code",
      "source": [
        "import getpass\n",
        "import os\n",
        "\n",
        "if not os.environ.get(\"OPENAI_API_KEY\"):\n",
        "    os.environ[\"OPENAI_API_KEY\"] = getpass.getpass(\"Enter your OpenAI API key: \")"
      ],
      "metadata": {
        "id": "jbi46VghSqqk"
      },
      "execution_count": null,
      "outputs": []
    },
    {
      "cell_type": "code",
      "source": [
        "!pip install -qU langchain-openai"
      ],
      "metadata": {
        "id": "VFVr5x-_UQ8Q"
      },
      "execution_count": null,
      "outputs": []
    },
    {
      "cell_type": "code",
      "source": [
        "from langchain_openai import ChatOpenAI\n",
        "\n",
        "llm = ChatOpenAI(model=\"gpt-4o-mini\", temperature=0)"
      ],
      "metadata": {
        "id": "cieuHtocUVUd"
      },
      "execution_count": null,
      "outputs": []
    },
    {
      "cell_type": "code",
      "source": [
        "# system message => how the bot should interpret the conversation/how it should behave when it sees users' inputs\n",
        "# user message => user's inputs\n",
        "messages = [\n",
        "    (\n",
        "        \"system\",\n",
        "        \"You are a helpful assistant that returns names of places in a given sentence, along with the number of place names.\", #\n",
        "    ),\n",
        "    (\"human\", \"is the capital city of the German state of Saxony and its second most populous city after Leipzig.\"),\n",
        "]\n",
        "messages"
      ],
      "metadata": {
        "id": "qZX6nakOUsMA"
      },
      "execution_count": null,
      "outputs": []
    },
    {
      "cell_type": "code",
      "source": [
        "ai_msg = llm.invoke(messages)\n",
        "ai_msg"
      ],
      "metadata": {
        "id": "ZkFoJG6ONsl4"
      },
      "execution_count": null,
      "outputs": []
    },
    {
      "cell_type": "code",
      "source": [
        "print(ai_msg.content)"
      ],
      "metadata": {
        "id": "LfuLDG38UzMe"
      },
      "execution_count": null,
      "outputs": []
    },
    {
      "cell_type": "markdown",
      "source": [
        "# Part 2: Query interpretation/Geocoding"
      ],
      "metadata": {
        "id": "PBPzdFw6mcHD"
      }
    },
    {
      "cell_type": "markdown",
      "source": [
        "![image.png](data:image/png;base64,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)\n",
        "Picture source: https://docs.smith.langchain.com/prompt_engineering/concepts"
      ],
      "metadata": {
        "id": "bQPhWhHIP_7V"
      }
    },
    {
      "cell_type": "markdown",
      "source": [
        "Geocoding through prompt template"
      ],
      "metadata": {
        "id": "_7Fhyp9dn6YT"
      }
    },
    {
      "cell_type": "code",
      "source": [
        "import os\n",
        "\n",
        "if \"OPENAI_API_KEY\" not in os.environ:\n",
        "    os.environ[\"OPENAI_API_KEY\"] = getpass.getpass(\"Enter your OpenAI API key: \")\n",
        "\n",
        "from langchain_openai import ChatOpenAI\n",
        "from langchain import PromptTemplate\n",
        "\n",
        "llm = ChatOpenAI(model=\"gpt-4o-mini\", temperature=0)\n",
        "\n",
        "LocationExtraction_template = \"\"\"\n",
        "You are a virtual assistant that extracts entities from the provided text.\n",
        "USER: Text: {input_text}\n",
        "ASSISTANT: I’ve read the text.\n",
        "USER: What are all {entity_type} mentioned in the text?\n",
        "ASSISTANT: Return the model's prediction as geojson. For every {entity_type} found, mention also the coordinates in decimal degrees.\n",
        "\"\"\"\n",
        "#Alternative: Return the model's prediction as geojson. For every {entity_type} found, mention also the coordinates in decimal degrees. The geojson should start with square brackets\n",
        "\n",
        "# prompt template => generate system messages dynamically\n",
        "prompt_template = PromptTemplate(\n",
        "    input_variables=[\"input_text\", \"entity_type\"],\n",
        "    template=LocationExtraction_template\n",
        ")\n",
        "\n",
        "chain = prompt_template | llm\n",
        "\n",
        "example_text = \"\"\"\n",
        "Dresden is the capital city of the German state of Saxony and its second most populous city after Leipzig. It is the 12th most populous city of Germany,\n",
        "the fourth largest by area (after Berlin, Hamburg, and Cologne), and the third-most populous city in the area of former East Germany, after Berlin and Leipzig.\n",
        "Dresden's urban area comprises the towns of Freital, Pirna, Radebeul, Meissen, Coswig, Radeberg, and Heidenau and has around 790,000 inhabitants.\n",
        "The Dresden metropolitan area has approximately 1.34 million inhabitants.\n",
        "Dresden is the second largest city on the River Elbe after Hamburg.\n",
        "\"\"\"\n",
        "\n",
        "chain.invoke({\"input_text\": example_text,  \"entity_type\": \"state\"}).content # Alternative: place, location, locations, place names, river, state"
      ],
      "metadata": {
        "id": "5kR0Cq3In46I"
      },
      "execution_count": null,
      "outputs": []
    },
    {
      "cell_type": "markdown",
      "source": [
        "Geocoding through LLMs with structured output"
      ],
      "metadata": {
        "id": "S1_fPuaiPEby"
      }
    },
    {
      "cell_type": "code",
      "source": [
        "import os\n",
        "\n",
        "if \"OPENAI_API_KEY\" not in os.environ:\n",
        "    os.environ[\"OPENAI_API_KEY\"] = getpass.getpass(\"Enter your OpenAI API key: \")\n",
        "\n",
        "from langchain_openai import ChatOpenAI\n",
        "from langchain import PromptTemplate\n",
        "\n",
        "llm_w_so = ChatOpenAI(model=\"gpt-4o-mini\", temperature=0).with_structured_output(method=\"json_mode\")\n",
        "\n",
        "LocationExtraction_template = \"\"\"\n",
        "You are a virtual assistant that extracts entities from the provided text.\n",
        "USER: Text: {input_text}\n",
        "ASSISTANT: I’ve read the text.\n",
        "USER: What are all {entity_type} mentioned in the text?\n",
        "ASSISTANT: Return the model's prediction formatted as geojson. For every {entity_type} found, mention also the coordinates in decimal degrees.\n",
        "\"\"\"\n",
        "\n",
        "prompt_template = PromptTemplate(\n",
        "    input_variables=[\"input_text\", \"entity_type\"],\n",
        "    template=LocationExtraction_template\n",
        ")\n",
        "\n",
        "chain = prompt_template | llm_w_so\n",
        "\n",
        "example_text = \"\"\"\n",
        "Dresden is the capital city of the German state of Saxony and its second most populous city after Leipzig. It is the 12th most populous city of Germany,\n",
        "the fourth largest by area (after Berlin, Hamburg, and Cologne), and the third-most populous city in the area of former East Germany, after Berlin and Leipzig.\n",
        "Dresden's urban area comprises the towns of Freital, Pirna, Radebeul, Meissen, Coswig, Radeberg, and Heidenau and has around 790,000 inhabitants.\n",
        "The Dresden metropolitan area has approximately 1.34 million inhabitants.\n",
        "Dresden is the second largest city on the River Elbe after Hamburg.\n",
        "\"\"\"\n",
        "\n",
        "chain.invoke({\"input_text\": example_text,  \"entity_type\": \"place name\"}) # Alternative: place, location, locations, place names"
      ],
      "metadata": {
        "id": "R5Itdao0tPpf"
      },
      "execution_count": null,
      "outputs": []
    },
    {
      "cell_type": "code",
      "source": [
        "query = \"German Hygiene Museum and Semperoper\" # Semperoper, Deutsches Hygiene Museum, German Hygiene Museum\n",
        "\n",
        "places = chain.invoke({\"input_text\": query,  \"entity_type\": \"place name\"}) # Alternative: place, location, locations, place names\n",
        "places"
      ],
      "metadata": {
        "id": "4CRC5WdFsvRf"
      },
      "execution_count": null,
      "outputs": []
    },
    {
      "cell_type": "code",
      "source": [
        "import folium\n",
        "\n",
        "popup = folium.GeoJsonPopup(fields=[\"name\"])\n",
        "\n",
        "m = folium.Map([51.05, 13.73], zoom_start=14)\n",
        "\n",
        "folium.GeoJson(places, popup=popup).add_to(m)\n",
        "\n",
        "m"
      ],
      "metadata": {
        "id": "bD_S2vyFxC-m"
      },
      "execution_count": null,
      "outputs": []
    },
    {
      "cell_type": "markdown",
      "source": [
        "Next step: Compute the Q-Footprint from the P-Footprints"
      ],
      "metadata": {
        "id": "25qSxsxeyaIY"
      }
    },
    {
      "cell_type": "markdown",
      "source": [
        "# Part 3: Retrieval"
      ],
      "metadata": {
        "id": "T8wjlXGDWQzv"
      }
    },
    {
      "cell_type": "code",
      "source": [
        "!pip -q install chromadb langchain-chroma langchain-openai"
      ],
      "metadata": {
        "id": "XDeOfZAFXzIA"
      },
      "execution_count": null,
      "outputs": []
    },
    {
      "cell_type": "code",
      "source": [
        "import chromadb\n",
        "chroma_client = chromadb.HttpClient(host='https://klimakonform-maps.geo.tu-dresden.de/chromadb')\n",
        "chroma_client.heartbeat()"
      ],
      "metadata": {
        "id": "GAEf61YWXw9v"
      },
      "execution_count": null,
      "outputs": []
    },
    {
      "cell_type": "code",
      "source": [
        "!pip install -qU langchain-huggingface"
      ],
      "metadata": {
        "id": "wUdi8Ocib8T3"
      },
      "execution_count": null,
      "outputs": []
    },
    {
      "cell_type": "code",
      "source": [
        "from langchain_huggingface import HuggingFaceEmbeddings\n",
        "\n",
        "embeddings_hf = HuggingFaceEmbeddings(model_name=\"all-MiniLM-L6-v2\")"
      ],
      "metadata": {
        "id": "9eCYXBVDcDgT"
      },
      "execution_count": null,
      "outputs": []
    },
    {
      "cell_type": "code",
      "source": [
        "from langchain_chroma import Chroma\n",
        "from langchain_openai import OpenAIEmbeddings\n",
        "\n",
        "vector_store_building_with_names = Chroma(\n",
        "    client=chroma_client,\n",
        "    collection_name=\"buildings_with_names\",\n",
        "    embedding_function=embeddings_hf,\n",
        "    create_collection_if_not_exists=False\n",
        ")\n",
        "\n",
        "vector_store_buildings_grouped_by_type = Chroma(\n",
        "    client=chroma_client,\n",
        "    collection_name=\"buildings_grouped_by_type\",\n",
        "    #embedding_function=embeddings_hf,\n",
        "    create_collection_if_not_exists=False\n",
        ")"
      ],
      "metadata": {
        "id": "lBHO2b2dXJrp"
      },
      "execution_count": null,
      "outputs": []
    },
    {
      "cell_type": "code",
      "source": [],
      "metadata": {
        "id": "5udoQ8O_IvaR"
      },
      "execution_count": null,
      "outputs": []
    },
    {
      "cell_type": "markdown",
      "source": [
        "## Response"
      ],
      "metadata": {
        "id": "s9GwyUuZ42i-"
      }
    },
    {
      "cell_type": "code",
      "source": [
        "# https://python.langchain.com/docs/integrations/vectorstores/chroma/\n",
        "response = vector_store_building_with_names.similarity_search(\"Show me the Hygiene Museum\")\n",
        "response"
      ],
      "metadata": {
        "id": "webP4nVNWcM4"
      },
      "execution_count": null,
      "outputs": []
    },
    {
      "cell_type": "code",
      "source": [
        "document = response[0]\n",
        "document"
      ],
      "metadata": {
        "id": "7Ggidi2UNkTv"
      },
      "execution_count": null,
      "outputs": []
    },
    {
      "cell_type": "code",
      "source": [
        "document.id"
      ],
      "metadata": {
        "id": "noWDNcfLNnRR"
      },
      "execution_count": null,
      "outputs": []
    },
    {
      "cell_type": "code",
      "source": [
        "document.metadata"
      ],
      "metadata": {
        "id": "W-j6dFoQNqDA"
      },
      "execution_count": null,
      "outputs": []
    },
    {
      "cell_type": "code",
      "source": [
        "import json\n",
        "\n",
        "def create_geojson_feature(response, rank):\n",
        "    feature = json.loads(response['geometry'])\n",
        "    geojson = {\n",
        "        \"type\": \"Feature\",\n",
        "        \"properties\": feature['properties'],\n",
        "        \"geometry\": { \"type\": \"Polygon\", \"coordinates\": feature['coordinates']}\n",
        "    }\n",
        "    geojson[\"properties\"]['rank'] = rank\n",
        "    print(geojson[\"properties\"]['name'], \"- rank:\", rank)\n",
        "    return geojson\n",
        "\n",
        "features = []\n",
        "\n",
        "for i, document in enumerate(response):\n",
        "   feature = create_geojson_feature(document.metadata, i+1)\n",
        "   features.append(feature)\n",
        "\n",
        "\n",
        "results = {\n",
        "    \"type\": \"FeatureCollection\",\n",
        "    \"features\": features\n",
        "}"
      ],
      "metadata": {
        "collapsed": true,
        "id": "DSVk80W5m3DX"
      },
      "execution_count": null,
      "outputs": []
    },
    {
      "cell_type": "code",
      "source": [
        "import folium\n",
        "\n",
        "popup = folium.GeoJsonPopup(fields=[\"name\", \"rank\"])\n",
        "\n",
        "m = folium.Map([51.05, 13.73], zoom_start=14)\n",
        "\n",
        "folium.GeoJson(results, popup=popup).add_to(m)\n",
        "\n",
        "m"
      ],
      "metadata": {
        "id": "GN4isv6mfCXu"
      },
      "execution_count": null,
      "outputs": []
    },
    {
      "cell_type": "markdown",
      "source": [
        "## Response with score"
      ],
      "metadata": {
        "id": "fff9Z44245mU"
      }
    },
    {
      "cell_type": "code",
      "source": [
        "response_with_score = vector_store_building_with_names.similarity_search_with_score(\"Semperoper\")\n",
        "response_with_score"
      ],
      "metadata": {
        "id": "n_zPtwERtBQ-"
      },
      "execution_count": null,
      "outputs": []
    },
    {
      "cell_type": "code",
      "source": [
        "import json\n",
        "\n",
        "def create_geojson_feature(response, rank, score):\n",
        "    feature = json.loads(response['geometry'])\n",
        "    geojson = {\n",
        "        \"type\": \"Feature\",\n",
        "        \"properties\": feature['properties'],\n",
        "        \"geometry\": { \"type\": \"Polygon\", \"coordinates\": feature['coordinates']}\n",
        "    }\n",
        "    geojson[\"properties\"]['rank'] = rank\n",
        "    geojson[\"properties\"]['score'] = score\n",
        "    print(geojson[\"properties\"]['name'], \"; rank:\", rank, \"; score:\", score)\n",
        "    return geojson\n",
        "\n",
        "features = []\n",
        "\n",
        "for i, item in enumerate(response_with_score):\n",
        "   document, score  = item\n",
        "   feature = create_geojson_feature(document.metadata, i+1, score)\n",
        "   features.append(feature)\n",
        "\n",
        "\n",
        "results = {\n",
        "    \"type\": \"FeatureCollection\",\n",
        "    \"features\": features\n",
        "}"
      ],
      "metadata": {
        "id": "sMIZlGYV2bUM"
      },
      "execution_count": null,
      "outputs": []
    },
    {
      "cell_type": "markdown",
      "source": [
        "## Response using MMR"
      ],
      "metadata": {
        "id": "6VdrOUMG49rw"
      }
    },
    {
      "cell_type": "markdown",
      "source": [
        "MMR (Maximum Margin Relevance): select search targets that are relevant to a query **and** diverse among each other"
      ],
      "metadata": {
        "id": "RfPUoFkR-LM6"
      }
    },
    {
      "cell_type": "code",
      "source": [
        "#https://api.python.langchain.com/en/latest/vectorstores/langchain_core.vectorstores.VectorStore.html#langchain_core.vectorstores.VectorStore.max_marginal_relevance_search\n",
        "response_with_mmr = vector_store_building_with_names.max_marginal_relevance_search(\"Semperoper\")\n",
        "response_with_mmr"
      ],
      "metadata": {
        "id": "uPLIZRtGWIrQ"
      },
      "execution_count": null,
      "outputs": []
    },
    {
      "cell_type": "code",
      "source": [
        "import json\n",
        "\n",
        "def create_geojson_feature(response, rank):\n",
        "    feature = json.loads(response['geometry'])\n",
        "    geojson = {\n",
        "        \"type\": \"Feature\",\n",
        "        \"properties\": feature['properties'],\n",
        "        \"geometry\": { \"type\": \"Polygon\", \"coordinates\": feature['coordinates']}\n",
        "    }\n",
        "    geojson[\"properties\"]['rank'] = rank\n",
        "    print(geojson[\"properties\"]['name'], \"- rank:\", rank)\n",
        "    return geojson\n",
        "\n",
        "features = []\n",
        "\n",
        "for i, document in enumerate(response_with_mmr):\n",
        "   feature = create_geojson_feature(document.metadata, i+1)\n",
        "   features.append(feature)\n",
        "\n",
        "\n",
        "results = {\n",
        "    \"type\": \"FeatureCollection\",\n",
        "    \"features\": features\n",
        "}"
      ],
      "metadata": {
        "id": "1kvRxGCy5oWl"
      },
      "execution_count": null,
      "outputs": []
    },
    {
      "cell_type": "code",
      "source": [
        "import folium\n",
        "\n",
        "popup = folium.GeoJsonPopup(fields=[\"name\", \"rank\"])\n",
        "\n",
        "m = folium.Map([51.05, 13.73], zoom_start=14)\n",
        "\n",
        "folium.GeoJson(results, popup=popup).add_to(m)\n",
        "\n",
        "m"
      ],
      "metadata": {
        "id": "XnOdxYGv5wfm"
      },
      "execution_count": null,
      "outputs": []
    },
    {
      "cell_type": "markdown",
      "source": [
        "# Part 4: Generation"
      ],
      "metadata": {
        "id": "sKL4TFrJWTaL"
      }
    },
    {
      "cell_type": "code",
      "source": [
        "from langchain_openai import ChatOpenAI\n",
        "from langchain.prompts import ChatPromptTemplate\n",
        "\n",
        "template = \"\"\"Answer the question based only on the following context:\n",
        "{context}\n",
        "\n",
        "Question: {question}\n",
        "\"\"\"\n",
        "\n",
        "prompt = ChatPromptTemplate.from_template(template)\n",
        "prompt"
      ],
      "metadata": {
        "id": "qSxCiH1wteuB"
      },
      "execution_count": null,
      "outputs": []
    },
    {
      "cell_type": "code",
      "source": [
        "import getpass\n",
        "import os\n",
        "\n",
        "if not os.environ.get(\"OPENAI_API_KEY\"):\n",
        "    os.environ[\"OPENAI_API_KEY\"] = getpass.getpass(\"Enter your OpenAI API key: \")"
      ],
      "metadata": {
        "id": "PneloX8zn8UT"
      },
      "execution_count": null,
      "outputs": []
    },
    {
      "cell_type": "code",
      "source": [
        "llm = ChatOpenAI(model=\"gpt-4o-mini\", temperature=0)\n",
        "llm"
      ],
      "metadata": {
        "id": "dYSZ3ZTKtkpw"
      },
      "execution_count": null,
      "outputs": []
    },
    {
      "cell_type": "code",
      "source": [
        "chain = prompt | llm\n",
        "chain"
      ],
      "metadata": {
        "id": "ylF_kX0JtvwQ"
      },
      "execution_count": null,
      "outputs": []
    },
    {
      "cell_type": "code",
      "source": [
        "query = \"Show me the Hygiene Museum\"\n",
        "\n",
        "docs = response\n",
        "\n",
        "chain.invoke({\"context\": docs, \"question\": query})"
      ],
      "metadata": {
        "id": "p6FGKrahtjlE"
      },
      "execution_count": null,
      "outputs": []
    },
    {
      "cell_type": "markdown",
      "source": [
        "RAG formatted"
      ],
      "metadata": {
        "id": "CHUFIm80mRfl"
      }
    },
    {
      "cell_type": "code",
      "source": [
        "chain.invoke({\"context\": docs, \"question\": query}).content"
      ],
      "metadata": {
        "id": "cXvXi2mLuOjK"
      },
      "execution_count": null,
      "outputs": []
    },
    {
      "cell_type": "markdown",
      "source": [
        "Without RAG - as a baseline"
      ],
      "metadata": {
        "id": "0MqCO8e3mUf8"
      }
    },
    {
      "cell_type": "code",
      "source": [
        "llm.invoke(query).content"
      ],
      "metadata": {
        "id": "yh0lKPWLl43o"
      },
      "execution_count": null,
      "outputs": []
    },
    {
      "cell_type": "markdown",
      "source": [
        "# Part 5: Conversation"
      ],
      "metadata": {
        "id": "YlgT8kghv7fv"
      }
    },
    {
      "cell_type": "markdown",
      "source": [
        "![image.png](data:image/png;base64,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)\n",
        "Picture source: https://python.langchain.com/v0.2/docs/how_to/qa_chat_history_how_to/"
      ],
      "metadata": {
        "id": "HMief3COwuGo"
      }
    },
    {
      "cell_type": "markdown",
      "source": [
        "Basic history-aware prompt"
      ],
      "metadata": {
        "id": "UeKBS-uBDfb-"
      }
    },
    {
      "cell_type": "code",
      "source": [
        "from langchain.chains import create_history_aware_retriever\n",
        "from langchain_core.prompts import ChatPromptTemplate, MessagesPlaceholder # https://python.langchain.com/api_reference/core/prompts/langchain_core.prompts.chat.MessagesPlaceholder.html\n",
        "\n",
        "system_prompt = (\n",
        "    \"You are a helpful assistant\"\n",
        ")\n",
        "\n",
        "prompt = ChatPromptTemplate.from_messages(\n",
        "    [\n",
        "        (\"system\", system_prompt),\n",
        "        MessagesPlaceholder(\"chat_history\"),\n",
        "        (\"human\", \"{input}\"),\n",
        "    ]\n",
        ")"
      ],
      "metadata": {
        "id": "nXxG9O7cKIhb"
      },
      "execution_count": null,
      "outputs": []
    },
    {
      "cell_type": "code",
      "source": [
        "prompt.messages"
      ],
      "metadata": {
        "id": "IFEJ3a0a_CKM"
      },
      "execution_count": null,
      "outputs": []
    },
    {
      "cell_type": "code",
      "source": [
        "prompt.invoke({\n",
        "       \"chat_history\": [(\"human\", \"what is 1 + 1\"), (\"ai\", \"1 + 1 is 2\")],\n",
        "       \"input\": \"now multiply that by 4\"})"
      ],
      "metadata": {
        "id": "VyANqcSWufuY"
      },
      "execution_count": null,
      "outputs": []
    },
    {
      "cell_type": "markdown",
      "source": [
        "Retriever: interface to query documents from the vector store"
      ],
      "metadata": {
        "id": "xdiCdu3QAaMK"
      }
    },
    {
      "cell_type": "code",
      "source": [
        "!pip -q install chromadb langchain-chroma langchain_community"
      ],
      "metadata": {
        "id": "_KFFURwvIvNO"
      },
      "execution_count": null,
      "outputs": []
    },
    {
      "cell_type": "code",
      "source": [
        "import chromadb\n",
        "chroma_client = chromadb.HttpClient(host='https://klimakonform-maps.geo.tu-dresden.de/chromadb')\n",
        "chroma_client.heartbeat()"
      ],
      "metadata": {
        "id": "kcYXjg1OIsDm"
      },
      "execution_count": null,
      "outputs": []
    },
    {
      "cell_type": "code",
      "source": [
        "from langchain_chroma import Chroma\n",
        "from langchain_openai import OpenAIEmbeddings\n",
        "\n",
        "vector_store_building_with_names = Chroma(\n",
        "    client=chroma_client,\n",
        "    collection_name=\"buildings_with_names\",\n",
        "    embedding_function=embeddings_hf,\n",
        "    create_collection_if_not_exists=False\n",
        "\n",
        ")\n",
        "\n",
        "vector_store_buildings_grouped_by_type = Chroma(\n",
        "    client=chroma_client,\n",
        "    collection_name=\"buildings_grouped_by_type\",\n",
        "    embedding_function=embeddings_hf,\n",
        "    create_collection_if_not_exists=False\n",
        "\n",
        ")\n",
        "\n",
        "retriever = vector_store_building_with_names.as_retriever()"
      ],
      "metadata": {
        "id": "CO6AhsbLJmvS"
      },
      "execution_count": null,
      "outputs": []
    },
    {
      "cell_type": "markdown",
      "source": [
        "History-aware retriever"
      ],
      "metadata": {
        "id": "9PzAGOp9ATDX"
      }
    },
    {
      "cell_type": "code",
      "source": [
        "### Contextualize question ###\n",
        "contextualize_q_system_prompt = (\n",
        "    \"Given a chat history and the latest user question \"\n",
        "    \"which might reference context in the chat history, \"\n",
        "    \"formulate a standalone question which can be understood \"\n",
        "    \"without the chat history. Do NOT answer the question, \"\n",
        "    \"just reformulate it if needed and otherwise return it as is.\"\n",
        ")\n",
        "\n",
        "contextualize_q_prompt = ChatPromptTemplate.from_messages(\n",
        "    [\n",
        "        (\"system\", contextualize_q_system_prompt),\n",
        "        MessagesPlaceholder(\"chat_history\"),\n",
        "        (\"human\", \"{input}\"),\n",
        "    ]\n",
        ")\n",
        "\n",
        "llm = ChatOpenAI(model=\"gpt-4o-mini\", temperature=0)\n",
        "\n",
        "# a history-aware retriever consists of a llm, a retriever and a prompt to contextualize the query\n",
        "history_aware_retriever = create_history_aware_retriever(\n",
        "    llm, retriever, contextualize_q_prompt)"
      ],
      "metadata": {
        "id": "NAsbQTVlKQbP"
      },
      "execution_count": null,
      "outputs": []
    },
    {
      "cell_type": "code",
      "source": [
        "history_aware_retriever"
      ],
      "metadata": {
        "id": "c8NMnbuaBq7T"
      },
      "execution_count": null,
      "outputs": []
    },
    {
      "cell_type": "code",
      "source": [
        "history_aware_retriever.invoke({\"input\": \"What is the semperoper\", \"chat_history\": []})"
      ],
      "metadata": {
        "id": "kvQ8FOsiBkHa"
      },
      "execution_count": null,
      "outputs": []
    },
    {
      "cell_type": "code",
      "source": [
        "# https://python.langchain.com/v0.2/docs/how_to/qa_chat_history_how_to/\n",
        "\n",
        "from langchain.chains import create_history_aware_retriever, create_retrieval_chain\n",
        "from langchain.chains.combine_documents import create_stuff_documents_chain\n",
        "from langchain_chroma import Chroma\n",
        "from langchain_community.chat_message_histories import ChatMessageHistory\n",
        "from langchain_core.chat_history import BaseChatMessageHistory\n",
        "from langchain_core.prompts import ChatPromptTemplate, MessagesPlaceholder # Message PlaceHolder is useful to create dynamic messages\n",
        "from langchain_core.runnables.history import RunnableWithMessageHistory\n",
        "\n",
        "retriever = vector_store_building_with_names.as_retriever()\n",
        "\n",
        "### Contextualize question ###\n",
        "contextualize_q_system_prompt = (\n",
        "    \"Given a chat history and the latest user question \"\n",
        "    \"which might reference context in the chat history, \"\n",
        "    \"formulate a standalone question which can be understood \"\n",
        "    \"without the chat history. Do NOT answer the question, \"\n",
        "    \"just reformulate it if needed and otherwise return it as is.\"\n",
        ")\n",
        "\n",
        "contextualize_q_prompt = ChatPromptTemplate.from_messages(\n",
        "    [\n",
        "        (\"system\", contextualize_q_system_prompt),\n",
        "        MessagesPlaceholder(\"chat_history\"),\n",
        "        (\"human\", \"{input}\"),\n",
        "    ]\n",
        ")\n",
        "history_aware_retriever = create_history_aware_retriever(\n",
        "    llm, retriever, contextualize_q_prompt)\n",
        "\n",
        "### Answer question ###\n",
        "system_prompt = (\n",
        "    \"You are an assistant for question-answering tasks. \"\n",
        "    \"Use the following pieces of retrieved context to answer \"\n",
        "    \"the question. If you don't know the answer, say that you \"\n",
        "    \"don't know. Use three sentences maximum and keep the \"\n",
        "    \"answer concise.\"\n",
        "    \"\\n\\n\"\n",
        "    \"{context}\"\n",
        ")\n",
        "\n",
        "qa_prompt = ChatPromptTemplate.from_messages(\n",
        "    [\n",
        "        (\"system\", system_prompt),\n",
        "        MessagesPlaceholder(\"chat_history\"),\n",
        "        (\"human\", \"{input}\"),\n",
        "    ]\n",
        ")\n",
        "question_answer_chain = create_stuff_documents_chain(llm, qa_prompt)\n",
        "\n",
        "rag_chain = create_retrieval_chain(history_aware_retriever, question_answer_chain)\n",
        "\n",
        "\n",
        "### Statefully manage chat history ###\n",
        "store = {}\n",
        "\n",
        "def get_session_history(session_id: str) -> BaseChatMessageHistory:\n",
        "    if session_id not in store:\n",
        "        store[session_id] = ChatMessageHistory()\n",
        "    return store[session_id]\n",
        "\n",
        "conversational_rag_chain = RunnableWithMessageHistory(\n",
        "    rag_chain,\n",
        "    get_session_history,\n",
        "    input_messages_key=\"input\",\n",
        "    history_messages_key=\"chat_history\",\n",
        "    output_messages_key=\"answer\",\n",
        ")"
      ],
      "metadata": {
        "id": "HnmpF80tKp8L"
      },
      "execution_count": null,
      "outputs": []
    },
    {
      "cell_type": "code",
      "source": [
        "conversational_rag_chain.invoke(\n",
        "    {\"input\": \"What is the Semperoper?\"},\n",
        "    config={\n",
        "        \"configurable\": {\"session_id\": \"123abc\"}  # constructs a key \"123abc\" in `store`.\n",
        "    },\n",
        ")[\"answer\"]"
      ],
      "metadata": {
        "id": "bqaYpzdHLaGT"
      },
      "execution_count": null,
      "outputs": []
    },
    {
      "cell_type": "code",
      "source": [
        "conversational_rag_chain.invoke(\n",
        "    {\"input\": \"Where is it located?\"},\n",
        "    config={\"configurable\": {\"session_id\": \"123abc\"}},\n",
        ")[\"answer\"]"
      ],
      "metadata": {
        "id": "X5iygYmELdIK"
      },
      "execution_count": null,
      "outputs": []
    },
    {
      "cell_type": "code",
      "source": [
        "conversational_rag_chain.invoke(\n",
        "    {\"input\": \"How far is it from the German Hygiene Museum?\"},\n",
        "    config={\"configurable\": {\"session_id\": \"123abc\"}},\n",
        ")[\"answer\"]"
      ],
      "metadata": {
        "id": "M6IZiFla2OUX"
      },
      "execution_count": null,
      "outputs": []
    },
    {
      "cell_type": "code",
      "source": [
        "conversational_rag_chain.invoke(\n",
        "    {\"input\": \"What is its capacity?\"},\n",
        "    config={\"configurable\": {\"session_id\": \"123abc\"}},\n",
        ")[\"chat_history\"]"
      ],
      "metadata": {
        "id": "rKeF4BC447Pi"
      },
      "execution_count": null,
      "outputs": []
    },
    {
      "cell_type": "code",
      "source": [
        "get_session_history(\"123abc\").messages"
      ],
      "metadata": {
        "id": "wPqDUHcd4rG7"
      },
      "execution_count": null,
      "outputs": []
    },
    {
      "cell_type": "markdown",
      "source": [
        "# Outlook"
      ],
      "metadata": {
        "id": "4ziiEVUT1BF8"
      }
    },
    {
      "cell_type": "markdown",
      "source": [
        "Not covered, but probably useful: [Ensemble Retrievers](https://python.langchain.com/docs/how_to/ensemble_retriever/)\n",
        "\n",
        "\n",
        "\n"
      ],
      "metadata": {
        "id": "esJWY25r1DsS"
      }
    }
  ]
}